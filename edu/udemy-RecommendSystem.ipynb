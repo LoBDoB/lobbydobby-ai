{
 "cells": [
  {
   "cell_type": "markdown",
   "id": "197f37e0",
   "metadata": {},
   "source": [
    "# What is Recommend System?<br>\n",
    "- 유저들이 항목에 매긴 평점이나 선호도를 예측하는 시스템<br>\n",
    "- 사람들의 과거 행동을 기준으로 무언가를 추천하는 시스템<br>\n",
    "- 좋아할 만한 항목을 추천<br>\n",
    "- 넷플릭스의 동영상 콘텐츠는 어떤 식으로 추천해주는가?"
   ]
  },
  {
   "cell_type": "markdown",
   "id": "b40431de",
   "metadata": {},
   "source": [
    "# Data?<br>\n",
    "[ 명시적 평가 ]<br>\n",
    "- 먼저, 유저들의 취향과 흥미를 알아낼 수 있는 데이터를 수집<br>\n",
    "- 다음, 데이터를 다른 유저들의 집단행동에 병합하여 좋아할 만한 것들을 추천<br>\n",
    "- 유저와 고객을 이해하는 유일한 방법은, 눈에 보이는 피드백을 참고하는 것<br>\n",
    "    - 예를 들어, 온라인 강의의 평점을 1~5 까지 매겨달라 하거나, 좋아요/싫어요 등으로 평가<br>\n",
    "        - 이 예에 대한 문제점, 유저들에게 또 다른 작업을 요구해야 함<br>\n",
    "\n",
    "[ 암시적 평가 ]<br>\n",
    "- 행동을 통해서 흥미를 가졌거나 흥미가 없는 소재로 해석<br>\n",
    "- 클릭 데이터는 양이 많기 때문에 유용하지만, 정확한 지표라고 할 수는 없음<br>\n",
    "    - 예를 들어 1, 웹 페이지 링크를 클릭 했다는 행위만으로도 그 링크와 그 안의 콘텐츠에 대한 내잠적 평점이라고 여기는 것<br>\n",
    "    - 예를 들어 2, 광고를 클릭한 경우에는 당신이 그와 종류의 광고를 발견할 수도 있다는 걸 광고망에 전달하는 것<br>\n",
    "- 구매 이력"
   ]
  },
  {
   "cell_type": "markdown",
   "id": "d4cde833",
   "metadata": {},
   "source": [
    "# Acc?<br>\n",
    "1. MAE (절대 평균 오차)\n",
    "2. RMSE (평균 제곱 오차의 제곱근) => 패널티 때문에 훨씐 균등함"
   ]
  },
  {
   "cell_type": "markdown",
   "id": "7f39e308",
   "metadata": {},
   "source": [
    "# 추천 시스템 아이디어"
   ]
  },
  {
   "cell_type": "markdown",
   "id": "991151a7",
   "metadata": {},
   "source": [
    "### Collaborative Filtering: 협업 필터링<br>\n",
    "1. 콘텐츠 기반, 장르 별로 얼마나 유사한지 코사인 유사도 측정<br>\n",
    "    - 코사인 유사도<br>\n",
    "        - 각 피처의 벡터값에 대한 각도 만큼의 유사성 => 작은 각도일 수록 유사도 큼<br>\n",
    "        - 모든 장르의 차원으로 해당되는 장르마다 값을 표시<br>\n",
    "2. KNN => 콘텐츠 기반일 경우만 적용<br>\n",
    "    1) 사용자들이 평가한 영화들과 우리가 평가를 예측하고 싶어하는 영화간의 콘텐츠 유사성 측정<br>\n",
    "    2) 우리가 평가를 예측하고 싶은 영화와 비슷한 몇 가지 영화를 고르고 이를 K로 함 / 얼마나 비슷한지는 자유롭게 정함<br>\n",
    "        - 유사성 점수가 높은 영화가 비슷한 영화\n",
    "    3) 실제 평가 예측<br>\n",
    "        - 우리가 평가를 예측하려는 영화를 기준으로 유사성 점수의 가중 평균을 냄\n",
    "        - 사용자들이 내린 평가대로 가중치 부여\n",
    "3. 명시적/암시적 평가에 대한 사용<br>"
   ]
  },
  {
   "cell_type": "markdown",
   "id": "b6841682",
   "metadata": {},
   "source": [
    "#### Neighborhood-Based Collaborative Filtering: 근접 기반 협업 필터링<br>\n",
    "- 다른 사람들의 행동을 활용하는 것<br>\n",
    "- 비슷한 사람들을 찾아서 그 사람들이 좋아하는 것을 추천<br>\n",
    "- 좋아하는 것과 비슷한 걸 찾는 것을 추천<br>\n",
    "1. Top-N Recommender => 데이터의 희소성 어떻게? => 데이터가 10만개 여도 부족하다<br>\n",
    "2. Metrics<br>\n",
    "    - Adjusted Cosine, 조정된 코사인 유사도: 사용자들의 유사성 측정에 이용<br>\n",
    "        - 평점과 사용자의 평균 평점의 차이<br>\n",
    "    - Pearson, 항목 기반 피어슨 유사도: 사용자들의 유사성 측정에 이용<br>\n",
    "        - 평점과 항목에 대한 모든 사용자들의 평점 평균의 차이<br>\n",
    "    - Mean Squared Difference, 평균 제곱 차이 유사도: 사용자들이 각 항목을 어떻게 평가했는가의 유사성<br>\n",
    "    - 자카드 유사도: 사용자 간의 교집합의 크기를 합집합의 크기로 나눈 유사성<br>\n",
    "3. 사용자 기반 협업 필터링<br>\n",
    "    - 필요한 데이터 수집<br>\n",
    "        - 모든 사람의 모든 평점이 있는 표 / user -> item rating matrix<br>\n",
    "            - 사용자 x 항목 (Users x Items)<br>\n",
    "        - user -> user similarity matrix<br>\n",
    "        - look up similar users<br>\n",
    "        - candidate generation<br>\n",
    "        - candidate scoring<br>\n",
    "        - candidate filtering<br>\n",
    "    - 상위 10명의 가장 비슷한 사용자를 선택<br>\n",
    "4. *아이템 기반 협업 필터링*<br>\n",
    "    - 좋아했던 것들을 살펴보고 그것들과 비슷한 것을 추천<br>\n",
    "    - 이 방식으로 구현하면 좋겠는데?<br>\n",
    "    - 테스트 필요<br>\n",
    "    - 사용자를 위한 상위 10개의 아이템을 임의로 선택<br>\n",
    "5. KNN"
   ]
  },
  {
   "cell_type": "markdown",
   "id": "7026dbec",
   "metadata": {},
   "source": [
    "### 행렬 분해 메소드<br>\n",
    "1. PCA<br>\n",
    "2. SVD<br>"
   ]
  },
  {
   "cell_type": "markdown",
   "id": "3504924c",
   "metadata": {},
   "source": []
  }
 ],
 "metadata": {
  "kernelspec": {
   "display_name": "Python 3 (ipykernel)",
   "language": "python",
   "name": "python3"
  },
  "language_info": {
   "codemirror_mode": {
    "name": "ipython",
    "version": 3
   },
   "file_extension": ".py",
   "mimetype": "text/x-python",
   "name": "python",
   "nbconvert_exporter": "python",
   "pygments_lexer": "ipython3",
   "version": "3.9.7"
  }
 },
 "nbformat": 4,
 "nbformat_minor": 5
}
